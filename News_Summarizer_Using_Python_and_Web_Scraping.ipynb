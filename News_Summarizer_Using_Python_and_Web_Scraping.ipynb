{
  "nbformat": 4,
  "nbformat_minor": 0,
  "metadata": {
    "colab": {
      "name": "News Summarizer Using Python and Web Scraping.ipynb",
      "provenance": [],
      "private_outputs": true,
      "authorship_tag": "ABX9TyOTzogQO7fm501BeTMu8oFp",
      "include_colab_link": true
    },
    "kernelspec": {
      "name": "python3",
      "display_name": "Python 3"
    }
  },
  "cells": [
    {
      "cell_type": "markdown",
      "metadata": {
        "id": "view-in-github",
        "colab_type": "text"
      },
      "source": [
        "<a href=\"https://colab.research.google.com/github/kavmut/News-Summarizer-Using-Python-and-Web-Scraping/blob/master/News_Summarizer_Using_Python_and_Web_Scraping.ipynb\" target=\"_parent\"><img src=\"https://colab.research.google.com/assets/colab-badge.svg\" alt=\"Open In Colab\"/></a>"
      ]
    },
    {
      "cell_type": "code",
      "metadata": {
        "id": "oAQUvrPJw-hD",
        "colab_type": "code",
        "colab": {}
      },
      "source": [
        "# Description : This Program Scrapes And Summarizes News Articles"
      ],
      "execution_count": null,
      "outputs": []
    },
    {
      "cell_type": "code",
      "metadata": {
        "id": "6hQ7Ah7Gy8pX",
        "colab_type": "code",
        "colab": {}
      },
      "source": [
        "pip install nltk"
      ],
      "execution_count": null,
      "outputs": []
    },
    {
      "cell_type": "code",
      "metadata": {
        "id": "Y_lwQnaPzB9o",
        "colab_type": "code",
        "colab": {}
      },
      "source": [
        "pip install newspaper3k"
      ],
      "execution_count": null,
      "outputs": []
    },
    {
      "cell_type": "code",
      "metadata": {
        "id": "cQnUBCnuzIav",
        "colab_type": "code",
        "colab": {}
      },
      "source": [
        "# Import the libraries\n",
        "import nltk\n",
        "from newspaper import Article"
      ],
      "execution_count": null,
      "outputs": []
    },
    {
      "cell_type": "code",
      "metadata": {
        "id": "ogDfJuvizWnP",
        "colab_type": "code",
        "colab": {}
      },
      "source": [
        "# Get the article\n",
        "url = 'https://edition.cnn.com/2020/07/24/europe/spain-king-felipe-juan-carlos-allegations-intl/index.html'\n",
        "article = Article(url)"
      ],
      "execution_count": null,
      "outputs": []
    },
    {
      "cell_type": "code",
      "metadata": {
        "id": "o7yy4FNN0DGU",
        "colab_type": "code",
        "colab": {}
      },
      "source": [
        "# Do some NLP\n",
        "article.download()\n",
        "article.parse()\n",
        "nltk.download('punkt')\n",
        "article.nlp()"
      ],
      "execution_count": null,
      "outputs": []
    },
    {
      "cell_type": "code",
      "metadata": {
        "id": "nBLTV-_10XjJ",
        "colab_type": "code",
        "colab": {}
      },
      "source": [
        "# Get the authors\n",
        "article.authors"
      ],
      "execution_count": null,
      "outputs": []
    },
    {
      "cell_type": "code",
      "metadata": {
        "id": "b1iyD5Xb0opM",
        "colab_type": "code",
        "colab": {}
      },
      "source": [
        "# Get the publish date\n",
        "article.publish_date"
      ],
      "execution_count": null,
      "outputs": []
    },
    {
      "cell_type": "code",
      "metadata": {
        "id": "NTBoB7hE0yWI",
        "colab_type": "code",
        "colab": {}
      },
      "source": [
        "# Get the top image\n",
        "article.top_image"
      ],
      "execution_count": null,
      "outputs": []
    },
    {
      "cell_type": "code",
      "metadata": {
        "id": "4736EyHV1E0k",
        "colab_type": "code",
        "colab": {}
      },
      "source": [
        "# Get the artcle text\n",
        "print(article.text)"
      ],
      "execution_count": null,
      "outputs": []
    },
    {
      "cell_type": "code",
      "metadata": {
        "id": "Fpt22jtK1fzg",
        "colab_type": "code",
        "colab": {}
      },
      "source": [
        "# Get the summary o fthe article\n",
        "print(article.summary)"
      ],
      "execution_count": null,
      "outputs": []
    }
  ]
}